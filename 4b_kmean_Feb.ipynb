{
  "nbformat": 4,
  "nbformat_minor": 0,
  "metadata": {
    "colab": {
      "name": "4b_kmean_Feb.ipynb",
      "provenance": [],
      "collapsed_sections": [],
      "include_colab_link": true
    },
    "kernelspec": {
      "name": "python3",
      "display_name": "Python 3"
    }
  },
  "cells": [
    {
      "cell_type": "markdown",
      "metadata": {
        "id": "view-in-github",
        "colab_type": "text"
      },
      "source": [
        "<a href=\"https://colab.research.google.com/github/Yichi-Z/ecommerce_project/blob/main/4b_kmean_Feb.ipynb\" target=\"_parent\"><img src=\"https://colab.research.google.com/assets/colab-badge.svg\" alt=\"Open In Colab\"/></a>"
      ]
    },
    {
      "cell_type": "code",
      "metadata": {
        "id": "GSdwSwLrYI7Z"
      },
      "source": [
        "from google.colab import drive\n",
        "drive.mount('/content/drive')"
      ],
      "execution_count": null,
      "outputs": []
    },
    {
      "cell_type": "code",
      "metadata": {
        "id": "isN2fiONYT5H"
      },
      "source": [
        "import numpy as np # linear algebra\n",
        "import pandas as pd # data processing, CSV file I/O (e.g. pd.read_csv)\n",
        "pd.options.display.float_format = \"{:,.2f}\".format\n",
        "import seaborn as sns\n",
        "import matplotlib.pyplot as plt\n",
        "import matplotlib.dates as mdates\n",
        "import datetime as dt\n",
        "import warnings\n",
        "warnings.simplefilter(\"ignore\")\n",
        "# Input data files are available in the \"../input/\" directory.\n",
        "# For example, running this (by clicking run or pressing Shift+Enter) will list all files under the input directory\n",
        "\n",
        "import os\n",
        "for dirname, _, filenames in os.walk('/kaggle/input'):\n",
        "    for filename in filenames:\n",
        "        print(os.path.join(dirname, filename))"
      ],
      "execution_count": null,
      "outputs": []
    },
    {
      "cell_type": "code",
      "metadata": {
        "id": "z_1jNfNyYdyt"
      },
      "source": [
        "#user defined functions\n",
        "def extract_categorycode(input_text,level=0):\n",
        "    '''\n",
        "     this function splits category code and returns the first part.\n",
        "    '''\n",
        "    output_text=input_text.split('.')[level]\n",
        "    return output_text\n",
        "\n",
        "def create_clusters(input_data_frame,input_columns,n_cluster):\n",
        "    '''\n",
        "     This function creates clusters and cluster labels.\n",
        "    '''\n",
        "    from sklearn.cluster import KMeans\n",
        "    X=input_data_frame[input_columns].values\n",
        "    k_means=KMeans(n_clusters=n_cluster,random_state=15).fit(X)\n",
        "    return k_means.labels_"
      ],
      "execution_count": null,
      "outputs": []
    },
    {
      "cell_type": "code",
      "metadata": {
        "id": "DMaMtpsLYhmB"
      },
      "source": [
        "#reading data\n",
        "file_loc=\"/content/drive/My Drive/datasets/2020-Feb.csv.gz\"\n",
        "dataset=pd.read_csv(file_loc)"
      ],
      "execution_count": null,
      "outputs": []
    },
    {
      "cell_type": "code",
      "metadata": {
        "id": "QkcAWru4Yozu"
      },
      "source": [
        "dataset.drop(columns=['category_id'],inplace=True)\n",
        "dataset['event_time']=pd.to_datetime(dataset['event_time']).dt.tz_convert(None)\n",
        "dataset['event_type']=dataset['event_type'].astype('category')\n",
        "dataset['category_code']=dataset['category_code'].astype('category')"
      ],
      "execution_count": null,
      "outputs": []
    },
    {
      "cell_type": "code",
      "metadata": {
        "id": "Q-cgAu-StWU1"
      },
      "source": [
        "#creating a summary table for general overview\n",
        "daily_summary_table=dataset.groupby(by=[dataset['event_time'].dt.normalize()]).agg(Number_of_daily_visits=('user_session',lambda x: x.nunique()),\n",
        "                                                                                  Number_of_daily_visitors=('user_id',lambda x: x.nunique())\n",
        "                                                                                  )\n",
        "sales_filter=dataset['event_type']=='purchase'\n",
        "sales=dataset.loc[sales_filter].groupby(by=[dataset['event_time'].dt.normalize()]).agg(number_of_daily_sales=('event_type','count'),\n",
        "                                                                                      Total_daily_sales=('price','sum')\n",
        "                                                                                      ).reset_index()\n",
        "daily_summary_table=pd.merge(left=daily_summary_table,\n",
        "                          right=sales,\n",
        "                          left_on=['event_time'],\n",
        "                          right_on=['event_time'],\n",
        "                          how='left')\n",
        "daily_summary_table['conversion_rate']=daily_summary_table['number_of_daily_sales']/daily_summary_table['Number_of_daily_visits']"
      ],
      "execution_count": null,
      "outputs": []
    },
    {
      "cell_type": "code",
      "metadata": {
        "id": "QLwQbOg7uvjE"
      },
      "source": [
        "#Daily Visits\n",
        "print('Daily Visits Statistics')\n",
        "print('-'*50)\n",
        "print(daily_summary_table['Number_of_daily_visits'].describe())\n",
        "print('-'*50)\n",
        "print('Visit Statistics by Dates')\n",
        "print('-'*50)\n",
        "print(daily_summary_table.groupby(by=daily_summary_table['event_time'].dt.day_name())['Number_of_daily_visits'].describe())\n",
        "\n",
        "#Plotting number of daily visits\n",
        "fig=plt.figure(figsize=(18,9))\n",
        "ax1=fig.add_subplot(2,1,1)\n",
        "sns.lineplot(x='event_time',\n",
        "              y='Number_of_daily_visits',\n",
        "              data=daily_summary_table,\n",
        "             ax=ax1)\n",
        "plt.title('Daily Visits')\n",
        "plt.ylabel('Number of Daily Visits')\n",
        "plt.xlabel('Dates')\n",
        "\n",
        "ax2=fig.add_subplot(2,1,2)\n",
        "\n",
        "sns.boxplot(x=daily_summary_table['event_time'].dt.dayofweek,\n",
        "            y='Number_of_daily_visits',\n",
        "            data=daily_summary_table,\n",
        "           ax=ax2)\n",
        "plt.title('Number of Visit by days')\n",
        "plt.ylabel('Number of Visits')\n",
        "plt.xlabel('Days')\n",
        "plt.xticks([0, 1, 2,3,4,5,6], ['Monday','Tuesday','Wednesday','Thursday','Friday','Saturday','Sunday'])\n",
        "fig.tight_layout(pad=3.0);"
      ],
      "execution_count": null,
      "outputs": []
    },
    {
      "cell_type": "code",
      "metadata": {
        "id": "LLRa3TvCuuzf"
      },
      "source": [
        "#Daily Visitors\n",
        "print('Daily Visitor Statistics')\n",
        "print('-'*50)\n",
        "print(daily_summary_table['Number_of_daily_visitors'].describe())\n",
        "print('-'*50)\n",
        "print('Visitor Statistics by Dates')\n",
        "print('-'*50)\n",
        "print(daily_summary_table.groupby(by=daily_summary_table['event_time'].dt.day_name())['Number_of_daily_visitors'].describe())\n",
        "\n",
        "#Plotting number of daily visitors\n",
        "fig=plt.figure(figsize=(18,9))\n",
        "ax1=fig.add_subplot(2,1,1)\n",
        "sns.lineplot(x='event_time',\n",
        "              y='Number_of_daily_visitors',\n",
        "              data=daily_summary_table,\n",
        "            ax=ax1)\n",
        "plt.title('Daily Visitors')\n",
        "plt.ylabel('Number of Daily Visitors')\n",
        "plt.xlabel('Dates')\n",
        "\n",
        "ax2=fig.add_subplot(2,1,2)\n",
        "sns.boxplot(x=daily_summary_table['event_time'].dt.dayofweek,\n",
        "            y='Number_of_daily_visitors',\n",
        "            data=daily_summary_table,\n",
        "           ax=ax2)\n",
        "plt.title('Number of Visitors by days')\n",
        "plt.ylabel('Number of Visitors')\n",
        "plt.xlabel('Days')\n",
        "plt.xticks([0, 1, 2,3,4,5,6], ['Monday','Tuesday','Wednesday','Thursday','Friday','Saturday','Sunday'])\n",
        "fig.tight_layout(pad=3.0);"
      ],
      "execution_count": null,
      "outputs": []
    },
    {
      "cell_type": "code",
      "metadata": {
        "id": "yMgsCJivuun1"
      },
      "source": [
        "#Conversion rates\n",
        "print('Conversion Rates Statistics')\n",
        "print('-'*50)\n",
        "print(daily_summary_table['conversion_rate'].describe())\n",
        "print('-'*50)\n",
        "print('Conversion Rates Statistics by Dates')\n",
        "print('-'*50)\n",
        "print(daily_summary_table.groupby(by=daily_summary_table['event_time'].dt.day_name())['conversion_rate'].describe())\n",
        "\n",
        "#Plotting convergance rates\n",
        "fig=plt.figure(figsize=(18,9))\n",
        "ax1=fig.add_subplot(2,1,1)\n",
        "sns.lineplot(x='event_time',\n",
        "              y='conversion_rate',\n",
        "              data=daily_summary_table,\n",
        "            ax=ax1)\n",
        "plt.title('Daily Conversion Rates')\n",
        "plt.ylabel('Conversion Rate')\n",
        "plt.xlabel('Dates')\n",
        "\n",
        "ax2=fig.add_subplot(2,1,2)\n",
        "sns.boxplot(x=daily_summary_table['event_time'].dt.dayofweek,\n",
        "            y='conversion_rate',\n",
        "            data=daily_summary_table,\n",
        "           ax=ax2)\n",
        "plt.title('Conversion Rates by days')\n",
        "plt.ylabel('Conversion Rate')\n",
        "plt.xlabel('Days')\n",
        "plt.xticks([0, 1, 2,3,4,5,6], ['Monday','Tuesday','Wednesday','Thursday','Friday','Saturday','Sunday'])\n",
        "fig.tight_layout(pad=3.0);"
      ],
      "execution_count": null,
      "outputs": []
    },
    {
      "cell_type": "code",
      "metadata": {
        "id": "_FPGyvXMu5CT"
      },
      "source": [
        "#creating a customer table\n",
        "\n",
        "#Filtering sales activities\n",
        "sales_filter=dataset['event_type']=='purchase'\n",
        "Customer_table=dataset.loc[sales_filter].groupby(by=['user_id']).agg(number_of_purchases=('user_id','count'),\n",
        "                                                                     total_sales=('price','sum')).reset_index()"
      ],
      "execution_count": null,
      "outputs": []
    },
    {
      "cell_type": "code",
      "metadata": {
        "id": "BnYeK-Wju5Hk"
      },
      "source": [
        "#Calculating number of customers who bought something\n",
        "Number_of_customers_who_bought_smt=Customer_table['user_id'].nunique()\n",
        "print('There are {:,.0f} customers, who purchased in October.'.format(Number_of_customers_who_bought_smt))\n",
        "\n",
        "#Calculating number of purchase activities for each customer\n",
        "print('-'*50)\n",
        "print('Distribution of Customer by Number of Purchases')\n",
        "print(Customer_table['number_of_purchases'].value_counts(normalize=True).head(10))\n",
        "#Calculationg repeat customers number\n",
        "print('-'*50)\n",
        "more_than_one_purchase_filter=Customer_table['number_of_purchases']>1\n",
        "Number_of_customers_who_bought_more_than_once=Customer_table.loc[more_than_one_purchase_filter].shape[0]\n",
        "print('There are {:,.0f} repeat customers, who bought more than once.'.format(Number_of_customers_who_bought_more_than_once))"
      ],
      "execution_count": null,
      "outputs": []
    },
    {
      "cell_type": "code",
      "metadata": {
        "id": "GrFr3QU9u5Ed"
      },
      "source": [
        "#filtering out the extreme values\n",
        "sales_threshold=np.percentile(Customer_table['total_sales'],[1,95])\n",
        "sales_threshold_filter=np.logical_and(Customer_table['total_sales']>=sales_threshold[0],\n",
        "                                      Customer_table['total_sales']<=sales_threshold[1])\n",
        "sales_filtered=Customer_table.loc[sales_threshold_filter]\n",
        "print(Customer_table.describe())\n",
        "print(sales_filtered.describe())\n",
        "\n",
        "fig=plt.figure(figsize=(12,12))\n",
        "ax1=fig.add_subplot(2,1,1)\n",
        "sns.distplot(Customer_table['total_sales'],\n",
        "            ax=ax1)\n",
        "\n",
        "ax2=fig.add_subplot(2,1,2)\n",
        "sns.distplot(sales_filtered['total_sales'],\n",
        "            ax=ax2)\n",
        "\n",
        "fig.tight_layout(pad=3.0);"
      ],
      "execution_count": null,
      "outputs": []
    },
    {
      "cell_type": "code",
      "metadata": {
        "id": "6fJCwQb7u472"
      },
      "source": [
        "#Most valuable customers\n",
        "\n",
        "#filtering customer with top %10 purchase amount\n",
        "top10perc_sales_amount=np.percentile(Customer_table['total_sales'],90)\n",
        "filter_top10perc_sales_amount=Customer_table['total_sales']>=top10perc_sales_amount\n",
        "top10perc_customers_with_hightest_turnover=Customer_table.loc[filter_top10perc_sales_amount]\n",
        "regular_customers=Customer_table.loc[~filter_top10perc_sales_amount]\n",
        "\n",
        "#calculating descriptive statistics\n",
        "print('Top 10% customers Purchase Amount-Descriptive Statistics')\n",
        "print('-'*50)\n",
        "print(top10perc_customers_with_hightest_turnover['total_sales'].describe())\n",
        "print('-'*50)\n",
        "total_sales_amount=Customer_table['total_sales'].sum()\n",
        "print('Total sales: {:,.0f}'.format(total_sales_amount))\n",
        "total_sales_amount_top10perc=top10perc_customers_with_hightest_turnover['total_sales'].sum()\n",
        "print('Total sales of top 10% customers: {:,.0f}'.format(total_sales_amount_top10perc))\n",
        "\n",
        "#calculating descriptive statistics\n",
        "print('Regular customers Purchase Amount-Descriptive Statistics')\n",
        "print('-'*50)\n",
        "print(regular_customers['total_sales'].describe())\n",
        "print('-'*50)\n",
        "total_sales_amount_regular_customers=regular_customers['total_sales'].sum()\n",
        "print('Total sales of regular customers: {:,.0f}'.format(total_sales_amount_regular_customers))"
      ],
      "execution_count": null,
      "outputs": []
    },
    {
      "cell_type": "code",
      "metadata": {
        "id": "bq_zID4AvKbe"
      },
      "source": [
        "#creating subsegments from regular customers\n",
        "from sklearn.cluster import KMeans\n",
        "X=regular_customers['total_sales'].values.reshape(-1,1)\n",
        "regular_customers['cluster']=Clustering_KMeans=KMeans(n_clusters=3,random_state=15).fit_predict(X)\n",
        "\n",
        "#merging clusters\n",
        "Customer_table=pd.merge(left=Customer_table,\n",
        "                        right=regular_customers[['user_id','cluster']],\n",
        "                        how='left',\n",
        "                        left_on='user_id',\n",
        "                        right_on='user_id')\n",
        "Customer_table['cluster'].fillna(3,inplace=True)\n",
        "\n",
        "#Plotting the clusters\n",
        "print('Cluster Statistics')\n",
        "print('-'*50)\n",
        "print(Customer_table.groupby(by=['cluster'])['total_sales'].describe())\n",
        "\n",
        "fig=plt.figure(figsize=(12,12))\n",
        "ax1=fig.add_subplot(2,1,1)\n",
        "sns.countplot(x='cluster',data=Customer_table,ax=ax1)\n",
        "plt.xlabel('Clusters')\n",
        "plt.ylabel('Number of Customers')\n",
        "plt.title(\"Clusters' Sizes\")\n",
        "ax1.set_xticklabels(['Medium','Low','High','Star']);\n",
        "\n",
        "ax2=fig.add_subplot(2,1,2)\n",
        "sns.boxplot(x='cluster',y='total_sales',data=Customer_table,ax=ax2,showfliers = False)\n",
        "plt.xlabel('Clusters')\n",
        "plt.ylabel('Total Sales')\n",
        "plt.title(\"Clusters' Total Sales\")\n",
        "fig.tight_layout(pad=3.0)\n",
        "ax2.set_xticklabels(['Medium','Low','High','Star']);"
      ],
      "execution_count": null,
      "outputs": []
    },
    {
      "cell_type": "code",
      "metadata": {
        "id": "1vDkgzMDvN1Y"
      },
      "source": [
        "#creating a filter for shoppers \n",
        "shopper_filter=dataset['event_type']=='purchase'\n",
        "#using the filter to create shopper user list\n",
        "shopper_list=dataset.loc[shopper_filter,['user_id']]\n",
        "#distincting shopper customer list\n",
        "distinct_shopper_df=pd.DataFrame(shopper_list['user_id'].unique(),columns=['user_id'])\n",
        "#creating shopper dataset\n",
        "dataset_shoppers=pd.merge(left=dataset,\n",
        "                          right=distinct_shopper_df,\n",
        "                          how='inner',\n",
        "                          left_on=['user_id'],\n",
        "                          right_on=['user_id']\n",
        "                          )"
      ],
      "execution_count": null,
      "outputs": []
    },
    {
      "cell_type": "code",
      "metadata": {
        "id": "LAmttTa8vUCf"
      },
      "source": [
        "#Extracting category code level_1 from category code\n",
        "dataset_shoppers['category_level_1']=dataset_shoppers['category_code'].apply(extract_categorycode)\n",
        "#excluding unknown categories\n",
        "filter_temp=dataset_shoppers['category_level_1']=='Unknown'\n",
        "dataset_shoppers=dataset_shoppers.loc[~filter_temp]\n",
        "\n",
        "#creating shoppers visit table that contains number of visits in each category \n",
        "shoppers_visit_table=dataset_shoppers.groupby(by=['user_id','category_level_1']).agg(Number_of_view=('user_id','count'))\n",
        "shoppers_visit_table=shoppers_visit_table.reset_index()\n",
        "\n",
        "#creating shoppers visit frequency table that contains total number of visit overall.\n",
        "shoppers_visit_frequency=shoppers_visit_table.groupby(by=['user_id']).agg(n_visits=('Number_of_view','sum')).reset_index()\n",
        "\n",
        "#creating the ratio column in shopper visit table \n",
        "shoppers_visit_table=pd.merge(left=shoppers_visit_table,\n",
        "                              right=shoppers_visit_frequency,\n",
        "                              left_on='user_id',\n",
        "                              right_on='user_id',\n",
        "                              how='left')\n",
        "shoppers_visit_table['ratio']=shoppers_visit_table['Number_of_view']/shoppers_visit_table['n_visits']"
      ],
      "execution_count": null,
      "outputs": []
    },
    {
      "cell_type": "code",
      "metadata": {
        "id": "p-jKgrCWvY7t"
      },
      "source": [
        "'''\n",
        "spliting shoppers into 2 different groups to create more homogenious interest groups. \n",
        "First group contains shoppers interested with only on category and the second group contains shoppers visited multiple categories.\n",
        "'''\n",
        "#creating first shopper group, focused customers.\n",
        "focused_shoppers_filter=shoppers_visit_table['ratio']==1\n",
        "focused_shoppers=shoppers_visit_table.loc[focused_shoppers_filter]\n",
        "#assigning \"focused customers\" to seperate groups by their category interests\n",
        "focused_shoppers['shoppers_interest_groups']=pd.factorize(focused_shoppers['category_level_1'])[0]+1\n",
        "\n",
        "#creating second customer group, diversified customers.\n",
        "diversified_shoppers=shoppers_visit_table.loc[~focused_shoppers_filter]\n",
        "diversified_shoppers_pivot=pd.pivot_table(data=diversified_shoppers,values='ratio',index='user_id',columns='category_level_1')\n",
        "diversified_shoppers_pivot.fillna(0,inplace=True)\n",
        "diversified_shoppers_pivot.reset_index(inplace=True)\n",
        "\n",
        "#creating subgroups for \"diversified customers\"\n",
        "k_4_clusters=create_clusters(input_data_frame=diversified_shoppers_pivot,\n",
        "                             input_columns=['accessories', 'apparel', 'appliances', 'auto','computers', 'construction', 'country_yard', 'electronics', 'furniture','kids', 'medicine', 'sport', 'stationery'],\n",
        "                             n_cluster=4)\n",
        "diversified_shoppers_pivot['cluster_k4means']=k_4_clusters\n",
        "\n",
        "#profiling subgroups of diversified customers\n",
        "input_columns=['cluster_k4means', 'accessories', 'apparel', 'appliances', 'auto','computers', 'construction', 'country_yard', 'electronics', 'furniture','kids', 'medicine', 'sport', 'stationery']                          \n",
        "print(diversified_shoppers_pivot[input_columns].groupby(by='cluster_k4means').mean())\n",
        "print(diversified_shoppers_pivot['cluster_k4means'].value_counts())\n",
        "\n",
        "'''\n",
        "diversified shoppers subgroups\n",
        "0: 70k-appliances and mostly electronics\n",
        "1: 30k-electronics and mostly appliances\n",
        "2: 30k-Apparel, appliances, construction, electronics, furniture\n",
        "3: 11k- Electronics and mostly computers\n",
        "'''"
      ],
      "execution_count": null,
      "outputs": []
    },
    {
      "cell_type": "markdown",
      "metadata": {
        "id": "13-1LnSAvh8o"
      },
      "source": [
        "# **Category Analysis**"
      ]
    },
    {
      "cell_type": "code",
      "metadata": {
        "id": "URxZdlbBvZId"
      },
      "source": [
        "#splitting the category text into 2 pieces as category and subcategory\n",
        "dataset['category']=dataset['category_code'].apply(extract_categorycode,level=0)\n",
        "dataset['subcategory']=dataset['category_code'].apply(extract_categorycode,level=1)"
      ],
      "execution_count": null,
      "outputs": []
    },
    {
      "cell_type": "code",
      "metadata": {
        "id": "ZtJMr65bvY_I",
        "outputId": "a2b1b482-abcf-4c8d-d318-68b9f323dbf2",
        "colab": {
          "base_uri": "https://localhost:8080/"
        }
      },
      "source": [
        "#calculating and printing informative numerical information about the dataset.\n",
        "total_number_of_activity=dataset.shape[0]\n",
        "print('Total number of activity:{:,.0f}'.format(total_number_of_activity))\n",
        "print('-'*50)\n",
        "total_number_of_visits=dataset['user_session'].nunique()\n",
        "print('Total number of visits:{:,.0f}'.format(total_number_of_visits))\n",
        "print('-'*50)\n",
        "total_number_of_visitors=dataset['user_id'].nunique()\n",
        "print('Total number of visitors:{:,.0f}'.format(total_number_of_visitors))\n",
        "print('-'*50)\n",
        "number_of_categories=dataset['category'].nunique()\n",
        "print('The number of categories:{:,.0f}'.format(number_of_categories))\n",
        "print('-'*50)\n",
        "number_of_subcategories=dataset['subcategory'].nunique()\n",
        "print('The number of subcategories:{:,.0f}'.format(number_of_subcategories))\n",
        "print('-'*50)\n",
        "number_of_brands=dataset['brand'].nunique()\n",
        "print('The number of brands:{:,.0f}'.format(number_of_brands))\n",
        "print('-'*50)\n",
        "number_of_products=dataset['product_id'].nunique()\n",
        "print('The number of products:{:,.0f}'.format(number_of_products))"
      ],
      "execution_count": null,
      "outputs": [
        {
          "output_type": "stream",
          "text": [
            "Total number of activity:55,318,565\n",
            "--------------------------------------------------\n",
            "Total number of visits:13,544,595\n",
            "--------------------------------------------------\n",
            "Total number of visitors:4,233,206\n",
            "--------------------------------------------------\n",
            "The number of categories:13\n",
            "--------------------------------------------------\n",
            "The number of subcategories:61\n",
            "--------------------------------------------------\n",
            "The number of brands:4,658\n",
            "--------------------------------------------------\n",
            "The number of products:258,469\n"
          ],
          "name": "stdout"
        }
      ]
    },
    {
      "cell_type": "code",
      "metadata": {
        "id": "BoQ7r5_ivY2M"
      },
      "source": [
        "#creating a summary table that contains an outline of categories and activities\n",
        "category_summary_table=dataset.groupby(by=['category']).agg(Number_of_views=('category','count'),\n",
        "                                                              Number_of_users=('user_id',lambda x: x.nunique()),\n",
        "                                                              Number_of_sessions=('user_session',pd.Series.nunique)).reset_index()\n",
        "sales_filter=dataset['event_type']=='purchase'\n",
        "category_sales_summary_table=dataset.loc[sales_filter].groupby(by=['category']).agg(Number_of_purchase=('category','count'),\n",
        "                                                                                      Amount_of_purchase=('price','sum'),\n",
        "                                                                                      Average_purchase_amount=('price','mean'),\n",
        "                                                                                      Number_of_sessions_with_purchase=('user_session',pd.Series.nunique),\n",
        "                                                                                      Number_of_shoppers=('user_id',lambda x: x.nunique())).reset_index()\n",
        "category_summary_table=pd.merge(left=category_summary_table,\n",
        "                               right=category_sales_summary_table,\n",
        "                               left_on='category',\n",
        "                               right_on='category',\n",
        "                               how='left')\n",
        "category_summary_table['Conversion_rate']=category_summary_table['Number_of_purchase']/category_summary_table['Number_of_sessions']"
      ],
      "execution_count": null,
      "outputs": []
    },
    {
      "cell_type": "code",
      "metadata": {
        "id": "Q26SMVd8wMJT"
      },
      "source": [
        "#creating a plot that illustrates number of visits in each category during October\n",
        "plt.figure(figsize=(18,3))\n",
        "plot = sns.barplot(x='category',y='Number_of_views',data=category_summary_table)\n",
        "for p in plot.patches:\n",
        "    plot.annotate(format(p.get_height(), ',.0f'),\n",
        "                  (p.get_x() + p.get_width() / 2., p.get_height()),\n",
        "                  ha = 'center',\n",
        "                  va = 'center', \n",
        "                  xytext = (0, 10), \n",
        "                  textcoords = 'offset points')\n",
        "\n",
        "plt.title('Total number of views by category')\n",
        "plt.xlabel('Category')\n",
        "plt.ylabel('Number of views')\n",
        "plt.ylim(0,category_summary_table['Number_of_views'].max()*1.2);"
      ],
      "execution_count": null,
      "outputs": []
    },
    {
      "cell_type": "code",
      "metadata": {
        "id": "miHgAUM9wLwx"
      },
      "source": [
        "#creating a plot that illustrates number of visitors in each category during October\n",
        "plt.figure(figsize=(18,3))\n",
        "plot = sns.barplot(x='category',y='Number_of_users',data=category_summary_table)\n",
        "for p in plot.patches:\n",
        "    plot.annotate(format(p.get_height(), ',.0f'),\n",
        "                  (p.get_x() + p.get_width() / 2., p.get_height()),\n",
        "                  ha = 'center',\n",
        "                  va = 'center', \n",
        "                  xytext = (0, 10), \n",
        "                  textcoords = 'offset points')\n",
        "\n",
        "plt.title('Total number of users by category')\n",
        "plt.xlabel('Category')\n",
        "plt.ylabel('Number of users')\n",
        "plt.ylim(0,category_summary_table['Number_of_users'].max()*1.2);"
      ],
      "execution_count": null,
      "outputs": []
    },
    {
      "cell_type": "code",
      "metadata": {
        "id": "AES85FUfwVIi"
      },
      "source": [
        "#creating a subcategory summary table\n",
        "category_subcategory_summary_table=dataset.groupby(by=['category','subcategory']).agg(Number_of_views=('category','count'),\n",
        "                                                              Number_of_users=('user_id',lambda x: x.nunique()),\n",
        "                                                              Number_of_sessions=('user_session',pd.Series.nunique)).reset_index()\n",
        "                                \n",
        "sales_filter=dataset['event_type']=='purchase'\n",
        "category_subcategory_sales_summary_table=dataset.loc[sales_filter].groupby(by=['category','subcategory']).agg(Number_of_purchase=('category','count'),\n",
        "                                                                                      Amount_of_purchase=('price','sum'),\n",
        "                                                                                      Average_purchase_amount=('price','mean'),\n",
        "                                                                                      Number_of_sessions_with_purchase=('user_session',pd.Series.nunique),\n",
        "                                                                                      Number_of_shoppers=('user_id',lambda x: x.nunique())).reset_index()\n",
        "category_subcategory_summary_table=pd.merge(left=category_subcategory_summary_table,\n",
        "                               right=category_subcategory_sales_summary_table,\n",
        "                               left_on=['category','subcategory'],\n",
        "                               right_on=['category','subcategory'],\n",
        "                               how='left')\n",
        "category_subcategory_summary_table['Conversion_rate']=category_subcategory_summary_table['Number_of_purchase']/category_subcategory_summary_table['Number_of_sessions']\n",
        "category_subcategory_summary_table['category_subcategory']=category_subcategory_summary_table['category']+'-'+category_subcategory_summary_table['subcategory']\n",
        "\n",
        "category_subcategory_summary_table_sorted=category_subcategory_summary_table.sort_values(by='Number_of_views', ascending=False)"
      ],
      "execution_count": null,
      "outputs": []
    },
    {
      "cell_type": "code",
      "metadata": {
        "id": "MiEHIroSwZ2C"
      },
      "source": [
        "#creating a plot that shows most popular subcategories and number of visits and visitors during October\n",
        "fig=plt.figure(figsize=(12,12))\n",
        "ax1=fig.add_subplot(2,1,1)\n",
        "plot=sns.barplot(x='Number_of_views',y='category_subcategory',data=category_subcategory_summary_table_sorted.head(10),ax=ax1)\n",
        "for p in plot.patches:\n",
        "    plot.annotate(format(p.get_width(), ',.0f'),\n",
        "                  (p.get_x()+p.get_width(), p.get_y() + p.get_height() ),\n",
        "                  ha = 'center',\n",
        "                  va = 'center', \n",
        "                  xytext = (0, 10), \n",
        "                  textcoords = 'offset points')\n",
        "plt.title('Most visited subcategories')\n",
        "plt.xlabel('Number of visits')\n",
        "plt.ylabel('Category-Subcategory')\n",
        "\n",
        "ax2=fig.add_subplot(2,1,2)\n",
        "plot=sns.barplot(x='Number_of_users',y='category_subcategory',data=category_subcategory_summary_table_sorted.head(10),ax=ax2)\n",
        "for p in plot.patches:\n",
        "    plot.annotate(format(p.get_width(), ',.0f'),\n",
        "                  (p.get_x()+p.get_width(), p.get_y() + p.get_height() ),\n",
        "                  ha = 'center',\n",
        "                  va = 'center', \n",
        "                  xytext = (0, 10), \n",
        "                  textcoords = 'offset points')\n",
        "\n",
        "plt.title('Most visited subcategory')\n",
        "plt.xlabel('Number of users')\n",
        "plt.ylabel('Category-Subcategory')\n",
        "plt.tight_layout()"
      ],
      "execution_count": null,
      "outputs": []
    },
    {
      "cell_type": "code",
      "metadata": {
        "id": "AHvIBj4kwLoB"
      },
      "source": [
        "#creating a plot that represents conversion rates by categories\n",
        "plt.figure(figsize=(18,3))\n",
        "plot = sns.barplot(x='category',y='Conversion_rate',data=category_summary_table)\n",
        "for p in plot.patches:\n",
        "    plot.annotate(\"{:.1%}\".format(p.get_height()),\n",
        "                  (p.get_x() + p.get_width() / 2., p.get_height()),\n",
        "                  ha = 'center',\n",
        "                  va = 'center', \n",
        "                  xytext = (0, 10), \n",
        "                  textcoords = 'offset points')\n",
        "\n",
        "plt.title('Conversation rates by category')\n",
        "plt.xlabel('Category')\n",
        "plt.ylabel('Conversation rates')\n",
        "plt.ylim(0,category_summary_table['Conversion_rate'].max()*1.2);"
      ],
      "execution_count": null,
      "outputs": []
    },
    {
      "cell_type": "code",
      "metadata": {
        "id": "qhdAi5B5wg3Q"
      },
      "source": [
        "#creating a plot that represents subcategories with highest conversion rates\n",
        "plt.figure(figsize=(21,3))\n",
        "plot = sns.barplot(x='category_subcategory',y='Conversion_rate',data=category_subcategory_summary_table_sorted.head(10))\n",
        "for p in plot.patches:\n",
        "    plot.annotate(\"{:.1%}\".format(p.get_height()),\n",
        "                  (p.get_x() + p.get_width() / 2., p.get_height()),\n",
        "                  ha = 'center',\n",
        "                  va = 'center', \n",
        "                  xytext = (0, 10), \n",
        "                  textcoords = 'offset points')\n",
        "\n",
        "plt.title('Top 10 Subcategories with highest conversion rates')\n",
        "plt.ylabel('Conversation rates')\n",
        "plt.ylim(0,category_summary_table['Conversion_rate'].max()*1.3);\n"
      ],
      "execution_count": null,
      "outputs": []
    },
    {
      "cell_type": "code",
      "metadata": {
        "id": "oPFspSAWwgvQ"
      },
      "source": [
        "#creating a plot that represents subcategories with lowest conversion rates\n",
        "plt.figure(figsize=(21,3))\n",
        "plot = sns.barplot(x='category_subcategory',y='Conversion_rate',data=category_subcategory_summary_table_sorted.tail(10))\n",
        "for p in plot.patches:\n",
        "    plot.annotate(\"{:.1%}\".format(p.get_height()),\n",
        "                  (p.get_x() + p.get_width() / 2., p.get_height()),\n",
        "                  ha = 'center',\n",
        "                  va = 'center', \n",
        "                  xytext = (0, 10), \n",
        "                  textcoords = 'offset points')\n",
        "plt.title('Bottom 10 Subcategories with lowest conversion rates')\n",
        "plt.ylabel('Conversation rates')\n",
        "plt.ylim(0,plot.get_ybound()[1]*1.3);"
      ],
      "execution_count": null,
      "outputs": []
    },
    {
      "cell_type": "code",
      "metadata": {
        "id": "wCZWx-Rhwqce"
      },
      "source": [
        "#creating a category turnover table\n",
        "category_turnover_table=category_summary_table.groupby(by=['category']).agg(total_turnover=('Amount_of_purchase','sum')).reset_index()\n",
        "category_turnover_table['total_turn_over_mio']=category_turnover_table['total_turnover']/1000000\n",
        "#ploting the category turnover table \n",
        "plt.figure(figsize=(18,3))\n",
        "plot = sns.barplot(x='category',y='total_turn_over_mio',data=category_turnover_table)\n",
        "\n",
        "for p in plot.patches:\n",
        "    plot.annotate(format(p.get_height(), ',.1f'),\n",
        "                  (p.get_x() + p.get_width() / 2., p.get_height()),\n",
        "                  ha = 'center',\n",
        "                  va = 'center', \n",
        "                  xytext = (0, 10), \n",
        "                  textcoords = 'offset points')\n",
        "\n",
        "plt.title('Turnover by category')\n",
        "plt.xlabel('Category')\n",
        "plt.ylabel('Turnover-Mio')\n",
        "plt.ylim(0,plot.get_ybound()[1]*1.3);"
      ],
      "execution_count": null,
      "outputs": []
    },
    {
      "cell_type": "code",
      "metadata": {
        "id": "3jCYaL2pwt2_"
      },
      "source": [
        "#creating a subcategory turnover table\n",
        "subcategory_turnover_table=category_subcategory_summary_table.groupby(by=['category_subcategory']).agg(total_turnover=('Amount_of_purchase','sum')).reset_index()\n",
        "subcategory_turnover_table=subcategory_turnover_table.sort_values(by=['total_turnover'],ascending=False)\n",
        "subcategory_turnover_table['total_turn_over_mio']=subcategory_turnover_table['total_turnover']/1000000\n",
        "\n",
        "#ploting top 10 subcategories with the highest turnover \n",
        "plt.figure(figsize=(21,3))\n",
        "plot = sns.barplot(x='category_subcategory',y='total_turn_over_mio',data=subcategory_turnover_table.head(10))\n",
        "\n",
        "for p in plot.patches:\n",
        "    plot.annotate(format(p.get_height(), ',.1f'),\n",
        "                  (p.get_x() + p.get_width() / 2., p.get_height()),\n",
        "                  ha = 'center',\n",
        "                  va = 'center', \n",
        "                  xytext = (0, 10), \n",
        "                  textcoords = 'offset points')\n",
        "\n",
        "plt.title('Top 10 Subcategories with highest turnover')\n",
        "plt.xlabel('Subcategory')\n",
        "plt.ylabel('Turnover-Mio')\n",
        "plt.ylim(0,plot.get_ybound()[1]*1.3);"
      ],
      "execution_count": null,
      "outputs": []
    },
    {
      "cell_type": "code",
      "metadata": {
        "id": "R_gRddoCwqgQ"
      },
      "source": [
        "#ploting top 10 subcategories with the lowest turnover \n",
        "plt.figure(figsize=(21,3))\n",
        "plot = sns.barplot(x='category_subcategory',y='total_turn_over_mio',data=subcategory_turnover_table.tail(10))\n",
        "\n",
        "for p in plot.patches:\n",
        "    plot.annotate(format(p.get_height(), ',.3f'),\n",
        "                  (p.get_x() + p.get_width() / 2., p.get_height()),\n",
        "                  ha = 'center',\n",
        "                  va = 'center', \n",
        "                  xytext = (0, 10), \n",
        "                  textcoords = 'offset points')\n",
        "\n",
        "plt.title('Bottom 10 Subcategories with lowest turnover')\n",
        "plt.xlabel('Subcategory')\n",
        "plt.ylabel('Turnover-Mio')\n",
        "plt.ylim(0,plot.get_ybound()[1]*1.3);\n"
      ],
      "execution_count": null,
      "outputs": []
    },
    {
      "cell_type": "code",
      "metadata": {
        "id": "IV6aS5o5wqVC"
      },
      "source": [
        ""
      ],
      "execution_count": null,
      "outputs": []
    },
    {
      "cell_type": "code",
      "metadata": {
        "id": "GWZ5GSU7wQ0A"
      },
      "source": [
        ""
      ],
      "execution_count": null,
      "outputs": []
    }
  ]
}